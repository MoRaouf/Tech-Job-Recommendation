{
 "cells": [
  {
   "cell_type": "code",
   "execution_count": null,
   "id": "ed3bef66-ff21-4577-8b95-aee89c6a5b22",
   "metadata": {},
   "outputs": [],
   "source": [
    "MLFLOW_TRACKING_URI = '../models/mlruns'\n",
    "MLFLOW_RUN_ID = \"a107782f5e814648af1d609b046aa929\"\n",
    "\n",
    "CLUSTERS_YAML_PATH = \"../data/processed/features_skills_clusters_description.yaml\""
   ]
  },
  {
   "cell_type": "code",
   "execution_count": null,
   "id": "2cb61faa",
   "metadata": {
    "pycharm": {
     "name": "#%%\n"
    }
   },
   "outputs": [],
   "source": [
    "import sys\n",
    "sys.path.append('../')"
   ]
  },
  {
   "cell_type": "code",
   "execution_count": null,
   "id": "00b8e7fc-c8c4-4a99-8866-243419a39b7a",
   "metadata": {},
   "outputs": [],
   "source": [
    "import pandas as pd\n",
    "import sys\n",
    "\n",
    "sys.path.append('../')\n",
    "from scripts.JobPrediction import *"
   ]
  },
  {
   "cell_type": "markdown",
   "id": "5edd2f4b",
   "metadata": {
    "pycharm": {
     "name": "#%% md\n"
    }
   },
   "source": [
    "# Simulate additional skills"
   ]
  },
  {
   "cell_type": "markdown",
   "id": "3ebe7237",
   "metadata": {
    "pycharm": {
     "name": "#%% md\n"
    }
   },
   "source": [
    "### 1. Calculate base probs"
   ]
  },
  {
   "cell_type": "code",
   "execution_count": null,
   "id": "e473e49c",
   "metadata": {
    "pycharm": {
     "name": "#%%\n"
    }
   },
   "outputs": [],
   "source": [
    "# current_skills = ['C', 'C++']\n",
    "# current_skills = ['R', 'SQL', 'RStudio']\n",
    "current_skills = ['Python', 'Pandas']"
   ]
  },
  {
   "cell_type": "code",
   "execution_count": null,
   "id": "3ef4f3e0",
   "metadata": {
    "pycharm": {
     "name": "#%%\n"
    }
   },
   "outputs": [],
   "source": [
    "# Initialize model\n",
    "model = JobPrediction(MLFLOW_TRACKING_URI, MLFLOW_RUN_ID, CLUSTERS_YAML_PATH)"
   ]
  },
  {
   "cell_type": "code",
   "execution_count": null,
   "id": "853f6bfb",
   "metadata": {
    "pycharm": {
     "name": "#%%\n"
    }
   },
   "outputs": [],
   "source": [
    "# Calculate base probability\n",
    "base_predictions = model.predict_jobs_probabilities(current_skills)\n",
    "base_predictions.sort_values(ascending=False)"
   ]
  },
  {
   "cell_type": "markdown",
   "id": "ee25bb1b",
   "metadata": {},
   "source": [
    "### 2. Calculate Probs for new skills"
   ]
  },
  {
   "cell_type": "code",
   "execution_count": null,
   "id": "d8badae6",
   "metadata": {
    "pycharm": {
     "name": "#%%\n"
    }
   },
   "outputs": [],
   "source": [
    "# Get possible new skills\n",
    "all_skills = pd.Series(model.get_all_skills())\n",
    "new_skills = all_skills[~all_skills.isin(current_skills)].copy()"
   ]
  },
  {
   "cell_type": "code",
   "execution_count": null,
   "id": "ada476e0",
   "metadata": {
    "pycharm": {
     "name": "#%%\n"
    }
   },
   "outputs": [],
   "source": [
    "new_skills"
   ]
  },
  {
   "cell_type": "code",
   "execution_count": null,
   "id": "6fcc4ffb",
   "metadata": {
    "pycharm": {
     "name": "#%%\n"
    }
   },
   "outputs": [],
   "source": [
    "simulated_results = []\n",
    "for skill in new_skills:\n",
    "    additional_skill_prob = model.predict_jobs_probabilities([skill] + current_skills)\n",
    "    additional_skill_uplift = (additional_skill_prob - base_predictions) / base_predictions\n",
    "    additional_skill_uplift.name = skill\n",
    "    simulated_results.append(additional_skill_uplift)"
   ]
  },
  {
   "cell_type": "code",
   "execution_count": null,
   "id": "dfadec93",
   "metadata": {
    "pycharm": {
     "name": "#%%\n"
    }
   },
   "outputs": [],
   "source": [
    "simulated_results = pd.DataFrame(simulated_results)"
   ]
  },
  {
   "cell_type": "code",
   "execution_count": null,
   "id": "17190429",
   "metadata": {
    "pycharm": {
     "name": "#%%\n"
    }
   },
   "outputs": [],
   "source": [
    "simulated_results"
   ]
  },
  {
   "cell_type": "markdown",
   "id": "d9ba23b7",
   "metadata": {
    "pycharm": {
     "name": "#%% md\n"
    }
   },
   "source": [
    "### Recommend"
   ]
  },
  {
   "cell_type": "code",
   "execution_count": null,
   "id": "dd0b14a4",
   "metadata": {
    "pycharm": {
     "name": "#%%\n"
    }
   },
   "outputs": [],
   "source": [
    "target_job = 'Data scientist or machine learning specialist'"
   ]
  },
  {
   "cell_type": "code",
   "execution_count": null,
   "id": "8ed0c13c",
   "metadata": {
    "pycharm": {
     "name": "#%%\n"
    }
   },
   "outputs": [],
   "source": [
    "target_results = simulated_results[target_job].sort_values(ascending=False)\n",
    "target_results"
   ]
  },
  {
   "cell_type": "code",
   "execution_count": null,
   "id": "b7dff36f",
   "metadata": {
    "pycharm": {
     "name": "#%%\n"
    }
   },
   "outputs": [],
   "source": [
    "threshold = 1\n",
    "recommendations = target_results[target_results > threshold].index.tolist()"
   ]
  },
  {
   "cell_type": "code",
   "execution_count": null,
   "id": "2f66274b",
   "metadata": {
    "pycharm": {
     "name": "#%%\n"
    }
   },
   "outputs": [],
   "source": [
    "print(\"Your current skills: \" + str(current_skills))\n",
    "print(\"Your target job: \" + str(target_job))\n",
    "print(\"You might also consider learning: \" + str(recommendations))"
   ]
  },
  {
   "cell_type": "code",
   "execution_count": null,
   "id": "7567ea8c",
   "metadata": {
    "pycharm": {
     "name": "#%%\n"
    }
   },
   "outputs": [],
   "source": []
  }
 ],
 "metadata": {
  "kernelspec": {
   "display_name": "Python 3 (ipykernel)",
   "language": "python",
   "name": "python3"
  },
  "language_info": {
   "codemirror_mode": {
    "name": "ipython",
    "version": 3
   },
   "file_extension": ".py",
   "mimetype": "text/x-python",
   "name": "python",
   "nbconvert_exporter": "python",
   "pygments_lexer": "ipython3",
   "version": "3.8.5"
  }
 },
 "nbformat": 4,
 "nbformat_minor": 5
}
