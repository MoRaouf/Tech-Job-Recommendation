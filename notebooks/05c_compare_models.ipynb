{
 "cells": [
  {
   "cell_type": "code",
   "execution_count": 1,
   "metadata": {},
   "outputs": [],
   "source": [
    "MLFLOW_TRACKING_URI = '../models/mlruns'\n",
    "MLFLOW_EXPERIMENT_NAME = \"skills_jobs_stackoverflow\""
   ]
  },
  {
   "cell_type": "code",
   "execution_count": 2,
   "metadata": {
    "pycharm": {
     "name": "#%%\n"
    }
   },
   "outputs": [
    {
     "name": "stderr",
     "output_type": "stream",
     "text": [
      "C:\\Users\\MR\\anaconda3\\lib\\site-packages\\paramiko\\transport.py:236: CryptographyDeprecationWarning: Blowfish has been deprecated\n",
      "  \"class\": algorithms.Blowfish,\n",
      "Failure while loading azureml_run_type_providers. Failed to load entrypoint azureml.scriptrun = azureml.core.script_run:ScriptRun._from_run_dto with exception (pyOpenSSL 23.0.0 (c:\\users\\mr\\anaconda3\\lib\\site-packages), Requirement.parse('pyopenssl<23.0.0')).\n",
      "Failure while loading azureml_run_type_providers. Failed to load entrypoint azureml.PipelineRun = azureml.pipeline.core.run:PipelineRun._from_dto with exception (pyOpenSSL 23.0.0 (c:\\users\\mr\\anaconda3\\lib\\site-packages), Requirement.parse('pyopenssl<23.0.0'), {'azureml-core'}).\n",
      "Failure while loading azureml_run_type_providers. Failed to load entrypoint azureml.ReusedStepRun = azureml.pipeline.core.run:StepRun._from_reused_dto with exception (pyOpenSSL 23.0.0 (c:\\users\\mr\\anaconda3\\lib\\site-packages), Requirement.parse('pyopenssl<23.0.0'), {'azureml-core'}).\n",
      "Failure while loading azureml_run_type_providers. Failed to load entrypoint azureml.StepRun = azureml.pipeline.core.run:StepRun._from_dto with exception (pyOpenSSL 23.0.0 (c:\\users\\mr\\anaconda3\\lib\\site-packages), Requirement.parse('pyopenssl<23.0.0'), {'azureml-core'}).\n",
      "Failure while loading azureml_run_type_providers. Failed to load entrypoint automl = azureml.train.automl.run:AutoMLRun._from_run_dto with exception (pyOpenSSL 23.0.0 (c:\\users\\mr\\anaconda3\\lib\\site-packages), Requirement.parse('pyopenssl<23.0.0'), {'azureml-core'}).\n",
      "Failure while loading azureml_run_type_providers. Failed to load entrypoint hyperdrive = azureml.train.hyperdrive:HyperDriveRun._from_run_dto with exception (pyOpenSSL 23.0.0 (c:\\users\\mr\\anaconda3\\lib\\site-packages), Requirement.parse('pyopenssl<23.0.0'), {'azureml-core'}).\n"
     ]
    }
   ],
   "source": [
    "import mlflow\n",
    "from mlflow.tracking import MlflowClient\n",
    "\n",
    "import pandas as pd"
   ]
  },
  {
   "cell_type": "code",
   "execution_count": 3,
   "metadata": {
    "pycharm": {
     "name": "#%%\n"
    }
   },
   "outputs": [],
   "source": [
    "# Initialize client\n",
    "mlflow.set_tracking_uri(MLFLOW_TRACKING_URI)\n",
    "client = MlflowClient()"
   ]
  },
  {
   "cell_type": "code",
   "execution_count": 4,
   "metadata": {
    "pycharm": {
     "name": "#%%\n"
    }
   },
   "outputs": [
    {
     "data": {
      "text/plain": [
       "<Experiment: artifact_location=('file:///E:/Jupyter Notebooks/Tech Job '\n",
       " 'Recommendation/notebooks/../models/mlruns/379493485091616815'), experiment_id='379493485091616815', lifecycle_stage='active', name='skills_jobs_stackoverflow', tags={}>"
      ]
     },
     "execution_count": 4,
     "metadata": {},
     "output_type": "execute_result"
    }
   ],
   "source": [
    "# Get experiment\n",
    "experiment = client.get_experiment_by_name(MLFLOW_EXPERIMENT_NAME)\n",
    "experiment"
   ]
  },
  {
   "cell_type": "code",
   "execution_count": 5,
   "metadata": {
    "pycharm": {
     "name": "#%%\n"
    }
   },
   "outputs": [
    {
     "name": "stderr",
     "output_type": "stream",
     "text": [
      "WARNING:root:Malformed run '.trash'. Detailed error Yaml file '..\\models\\mlruns\\379493485091616815\\.trash\\meta.yaml' does not exist.\n",
      "Traceback (most recent call last):\n",
      "  File \"C:\\Users\\MR\\anaconda3\\lib\\site-packages\\mlflow\\store\\tracking\\file_store.py\", line 728, in _list_run_infos\n",
      "    run_info = self._get_run_info_from_dir(r_dir)\n",
      "  File \"C:\\Users\\MR\\anaconda3\\lib\\site-packages\\mlflow\\store\\tracking\\file_store.py\", line 560, in _get_run_info_from_dir\n",
      "    meta = read_yaml(run_dir, FileStore.META_DATA_FILE_NAME)\n",
      "  File \"C:\\Users\\MR\\anaconda3\\lib\\site-packages\\mlflow\\utils\\file_utils.py\", line 179, in read_yaml\n",
      "    raise MissingConfigException(\"Yaml file '%s' does not exist.\" % file_path)\n",
      "mlflow.exceptions.MissingConfigException: Yaml file '..\\models\\mlruns\\379493485091616815\\.trash\\meta.yaml' does not exist.\n"
     ]
    },
    {
     "data": {
      "text/html": [
       "<div>\n",
       "<style scoped>\n",
       "    .dataframe tbody tr th:only-of-type {\n",
       "        vertical-align: middle;\n",
       "    }\n",
       "\n",
       "    .dataframe tbody tr th {\n",
       "        vertical-align: top;\n",
       "    }\n",
       "\n",
       "    .dataframe thead th {\n",
       "        text-align: right;\n",
       "    }\n",
       "</style>\n",
       "<table border=\"1\" class=\"dataframe\">\n",
       "  <thead>\n",
       "    <tr style=\"text-align: right;\">\n",
       "      <th></th>\n",
       "      <th>run_id</th>\n",
       "      <th>experiment_id</th>\n",
       "      <th>status</th>\n",
       "      <th>artifact_uri</th>\n",
       "      <th>start_time</th>\n",
       "      <th>end_time</th>\n",
       "      <th>metrics.recall_score</th>\n",
       "      <th>metrics.f1_score</th>\n",
       "      <th>metrics.accuracy_score</th>\n",
       "      <th>metrics.precision_score</th>\n",
       "      <th>tags.mlflow.source.type</th>\n",
       "      <th>tags.mlflow.user</th>\n",
       "      <th>tags.mlflow.runName</th>\n",
       "      <th>tags.mlflow.source.name</th>\n",
       "    </tr>\n",
       "  </thead>\n",
       "  <tbody>\n",
       "    <tr>\n",
       "      <th>0</th>\n",
       "      <td>31ae402b0ee14d82934009728f2c3caf</td>\n",
       "      <td>379493485091616815</td>\n",
       "      <td>FINISHED</td>\n",
       "      <td>file:///E:/Jupyter Notebooks/Tech Job Recommen...</td>\n",
       "      <td>2023-03-04 10:45:27.398000+00:00</td>\n",
       "      <td>2023-03-04 10:45:58.229000+00:00</td>\n",
       "      <td>10.833</td>\n",
       "      <td>14.907</td>\n",
       "      <td>93.4135</td>\n",
       "      <td>48.911</td>\n",
       "      <td>LOCAL</td>\n",
       "      <td>MR</td>\n",
       "      <td>Random Forest: with PCA + Hyperparamter tuning</td>\n",
       "      <td>C:\\Users\\MR\\anaconda3\\lib\\site-packages\\ipyker...</td>\n",
       "    </tr>\n",
       "    <tr>\n",
       "      <th>1</th>\n",
       "      <td>2a39c333088247ffa3a7decaa137c6ba</td>\n",
       "      <td>379493485091616815</td>\n",
       "      <td>FINISHED</td>\n",
       "      <td>file:///E:/Jupyter Notebooks/Tech Job Recommen...</td>\n",
       "      <td>2023-03-04 09:57:22.410000+00:00</td>\n",
       "      <td>2023-03-04 09:57:24.671000+00:00</td>\n",
       "      <td>10.833</td>\n",
       "      <td>14.907</td>\n",
       "      <td>93.4135</td>\n",
       "      <td>48.911</td>\n",
       "      <td>LOCAL</td>\n",
       "      <td>MR</td>\n",
       "      <td>Random Forest: with PCA - Basic</td>\n",
       "      <td>C:\\Users\\MR\\anaconda3\\lib\\site-packages\\ipyker...</td>\n",
       "    </tr>\n",
       "    <tr>\n",
       "      <th>2</th>\n",
       "      <td>427443c734fe4a39b555660d928690dc</td>\n",
       "      <td>379493485091616815</td>\n",
       "      <td>FINISHED</td>\n",
       "      <td>file:///E:/Jupyter Notebooks/Tech Job Recommen...</td>\n",
       "      <td>2023-03-04 09:36:57.204000+00:00</td>\n",
       "      <td>2023-03-04 09:36:57.267000+00:00</td>\n",
       "      <td>21.104</td>\n",
       "      <td>27.378</td>\n",
       "      <td>93.5885</td>\n",
       "      <td>47.741</td>\n",
       "      <td>LOCAL</td>\n",
       "      <td>MR</td>\n",
       "      <td>Baseline model: Logistic Regression</td>\n",
       "      <td>C:\\Users\\MR\\anaconda3\\envs\\Pytorch-GPU CUDA113...</td>\n",
       "    </tr>\n",
       "  </tbody>\n",
       "</table>\n",
       "</div>"
      ],
      "text/plain": [
       "                             run_id       experiment_id    status  \\\n",
       "0  31ae402b0ee14d82934009728f2c3caf  379493485091616815  FINISHED   \n",
       "1  2a39c333088247ffa3a7decaa137c6ba  379493485091616815  FINISHED   \n",
       "2  427443c734fe4a39b555660d928690dc  379493485091616815  FINISHED   \n",
       "\n",
       "                                        artifact_uri  \\\n",
       "0  file:///E:/Jupyter Notebooks/Tech Job Recommen...   \n",
       "1  file:///E:/Jupyter Notebooks/Tech Job Recommen...   \n",
       "2  file:///E:/Jupyter Notebooks/Tech Job Recommen...   \n",
       "\n",
       "                        start_time                         end_time  \\\n",
       "0 2023-03-04 10:45:27.398000+00:00 2023-03-04 10:45:58.229000+00:00   \n",
       "1 2023-03-04 09:57:22.410000+00:00 2023-03-04 09:57:24.671000+00:00   \n",
       "2 2023-03-04 09:36:57.204000+00:00 2023-03-04 09:36:57.267000+00:00   \n",
       "\n",
       "   metrics.recall_score  metrics.f1_score  metrics.accuracy_score  \\\n",
       "0                10.833            14.907                 93.4135   \n",
       "1                10.833            14.907                 93.4135   \n",
       "2                21.104            27.378                 93.5885   \n",
       "\n",
       "   metrics.precision_score tags.mlflow.source.type tags.mlflow.user  \\\n",
       "0                   48.911                   LOCAL               MR   \n",
       "1                   48.911                   LOCAL               MR   \n",
       "2                   47.741                   LOCAL               MR   \n",
       "\n",
       "                              tags.mlflow.runName  \\\n",
       "0  Random Forest: with PCA + Hyperparamter tuning   \n",
       "1                 Random Forest: with PCA - Basic   \n",
       "2            Baseline model: Logistic Regression    \n",
       "\n",
       "                             tags.mlflow.source.name  \n",
       "0  C:\\Users\\MR\\anaconda3\\lib\\site-packages\\ipyker...  \n",
       "1  C:\\Users\\MR\\anaconda3\\lib\\site-packages\\ipyker...  \n",
       "2  C:\\Users\\MR\\anaconda3\\envs\\Pytorch-GPU CUDA113...  "
      ]
     },
     "execution_count": 5,
     "metadata": {},
     "output_type": "execute_result"
    }
   ],
   "source": [
    "# Get all runs\n",
    "runs = mlflow.search_runs([experiment.experiment_id])\n",
    "runs"
   ]
  },
  {
   "cell_type": "code",
   "execution_count": null,
   "metadata": {},
   "outputs": [],
   "source": []
  }
 ],
 "metadata": {
  "kernelspec": {
   "display_name": "Python 3 (ipykernel)",
   "language": "python",
   "name": "python3"
  },
  "language_info": {
   "codemirror_mode": {
    "name": "ipython",
    "version": 3
   },
   "file_extension": ".py",
   "mimetype": "text/x-python",
   "name": "python",
   "nbconvert_exporter": "python",
   "pygments_lexer": "ipython3",
   "version": "3.8.16"
  }
 },
 "nbformat": 4,
 "nbformat_minor": 1
}
