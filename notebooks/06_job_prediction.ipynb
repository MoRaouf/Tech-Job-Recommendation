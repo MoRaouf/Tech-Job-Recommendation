{
 "cells": [
  {
   "cell_type": "code",
   "execution_count": 1,
   "id": "ed3bef66-ff21-4577-8b95-aee89c6a5b22",
   "metadata": {},
   "outputs": [],
   "source": [
    "MLFLOW_TRACKING_URI = '../models/mlruns/'\n",
    "MLFLOW_RUN_ID = \"31ae402b0ee14d82934009728f2c3caf\"\n",
    "\n",
    "LOG_DATA_PKL    =  \"data.pkl\"\n",
    "LOG_MODEL_PKL   =  \"model.pkl\"\n",
    "LOG_METRICS_PKL =  \"metrics.pkl\"\n",
    "\n",
    "CLUSTERS_YAML_PATH = \"../data/processed/features_skills_clusters_description.yaml\""
   ]
  },
  {
   "cell_type": "code",
   "execution_count": 2,
   "id": "00b8e7fc-c8c4-4a99-8866-243419a39b7a",
   "metadata": {},
   "outputs": [
    {
     "name": "stderr",
     "output_type": "stream",
     "text": [
      "C:\\Users\\MR\\anaconda3\\lib\\site-packages\\paramiko\\transport.py:236: CryptographyDeprecationWarning: Blowfish has been deprecated\n",
      "  \"class\": algorithms.Blowfish,\n",
      "Failure while loading azureml_run_type_providers. Failed to load entrypoint azureml.scriptrun = azureml.core.script_run:ScriptRun._from_run_dto with exception (pyOpenSSL 23.0.0 (c:\\users\\mr\\anaconda3\\lib\\site-packages), Requirement.parse('pyopenssl<23.0.0')).\n",
      "Failure while loading azureml_run_type_providers. Failed to load entrypoint azureml.PipelineRun = azureml.pipeline.core.run:PipelineRun._from_dto with exception (pyOpenSSL 23.0.0 (c:\\users\\mr\\anaconda3\\lib\\site-packages), Requirement.parse('pyopenssl<23.0.0'), {'azureml-core'}).\n",
      "Failure while loading azureml_run_type_providers. Failed to load entrypoint azureml.ReusedStepRun = azureml.pipeline.core.run:StepRun._from_reused_dto with exception (pyOpenSSL 23.0.0 (c:\\users\\mr\\anaconda3\\lib\\site-packages), Requirement.parse('pyopenssl<23.0.0'), {'azureml-core'}).\n",
      "Failure while loading azureml_run_type_providers. Failed to load entrypoint azureml.StepRun = azureml.pipeline.core.run:StepRun._from_dto with exception (pyOpenSSL 23.0.0 (c:\\users\\mr\\anaconda3\\lib\\site-packages), Requirement.parse('pyopenssl<23.0.0'), {'azureml-core'}).\n",
      "Failure while loading azureml_run_type_providers. Failed to load entrypoint automl = azureml.train.automl.run:AutoMLRun._from_run_dto with exception (pyOpenSSL 23.0.0 (c:\\users\\mr\\anaconda3\\lib\\site-packages), Requirement.parse('pyopenssl<23.0.0'), {'azureml-core'}).\n",
      "Failure while loading azureml_run_type_providers. Failed to load entrypoint hyperdrive = azureml.train.hyperdrive:HyperDriveRun._from_run_dto with exception (pyOpenSSL 23.0.0 (c:\\users\\mr\\anaconda3\\lib\\site-packages), Requirement.parse('pyopenssl<23.0.0'), {'azureml-core'}).\n"
     ]
    }
   ],
   "source": [
    "import os \n",
    "import sklearn\n",
    "import pickle\n",
    "import yaml\n",
    "\n",
    "import pandas as pd\n",
    "\n",
    "import mlflow\n",
    "from mlflow.tracking import MlflowClient"
   ]
  },
  {
   "cell_type": "markdown",
   "id": "afe579ef",
   "metadata": {
    "pycharm": {
     "name": "#%% md\n"
    }
   },
   "source": [
    "# Initialize"
   ]
  },
  {
   "cell_type": "markdown",
   "id": "4580f803",
   "metadata": {
    "pycharm": {
     "name": "#%% md\n"
    }
   },
   "source": [
    "# 1. Mlflow"
   ]
  },
  {
   "cell_type": "code",
   "execution_count": 3,
   "id": "b9f3e0a2",
   "metadata": {
    "pycharm": {
     "name": "#%%\n"
    }
   },
   "outputs": [],
   "source": [
    "# Initialize client and experiment\n",
    "mlflow.set_tracking_uri(MLFLOW_TRACKING_URI)\n",
    "client = MlflowClient()\n",
    "\n",
    "run = mlflow.get_run(MLFLOW_RUN_ID)\n",
    "artificats_path = run.info.artifact_uri"
   ]
  },
  {
   "cell_type": "markdown",
   "id": "a3b1dcf3-5871-4356-bd13-89ed7d8fa5e4",
   "metadata": {},
   "source": [
    "## Load model"
   ]
  },
  {
   "cell_type": "code",
   "execution_count": 4,
   "id": "5c364288",
   "metadata": {
    "pycharm": {
     "name": "#%%\n"
    }
   },
   "outputs": [
    {
     "data": {
      "text/plain": [
       "{'model_description': 'Random Forest: with PCA + Hyperparamter tuning',\n",
       " 'model_details': \"GridSearchCV(estimator=Pipeline(steps=[('robustscaler', RobustScaler()),\\n                                       ('pca', PCA()),\\n                                       ('randomforestclassifier',\\n                                        RandomForestClassifier(n_jobs=8,\\n                                                               random_state=0,\\n                                                               verbose=1))]),\\n             param_grid=[{'pca__n_components': [0.7, 0.85, 0.95],\\n                          'randomforestclassifier__max_depth': [3, 10, None],\\n                          'randomforestclassifier__n_estimators': [250, 500]}])\",\n",
       " 'model_object': GridSearchCV(estimator=Pipeline(steps=[('robustscaler', RobustScaler()),\n",
       "                                        ('pca', PCA()),\n",
       "                                        ('randomforestclassifier',\n",
       "                                         RandomForestClassifier(n_jobs=8,\n",
       "                                                                random_state=0,\n",
       "                                                                verbose=1))]),\n",
       "              param_grid=[{'pca__n_components': [0.7, 0.85, 0.95],\n",
       "                           'randomforestclassifier__max_depth': [3, 10, None],\n",
       "                           'randomforestclassifier__n_estimators': [250, 500]}])}"
      ]
     },
     "execution_count": 4,
     "metadata": {},
     "output_type": "execute_result"
    }
   ],
   "source": [
    "# Load model\n",
    "model_path = os.path.join(artificats_path, LOG_MODEL_PKL).replace(\"file:///\", \"\")\n",
    "with open(model_path, \"rb\") as f:\n",
    "    model = pickle.load(f)\n",
    "\n",
    "model"
   ]
  },
  {
   "cell_type": "code",
   "execution_count": 5,
   "id": "a44f70b7-d158-4f21-aae2-b05ddbb68946",
   "metadata": {},
   "outputs": [
    {
     "data": {
      "text/plain": [
       "dict_keys(['data_path', 'training_indices', 'test_indices', 'features_names', 'targets_names'])"
      ]
     },
     "execution_count": 5,
     "metadata": {},
     "output_type": "execute_result"
    }
   ],
   "source": [
    "# Load data pkl\n",
    "data_path  = os.path.join(artificats_path, LOG_DATA_PKL).replace(\"file:///\", \"\")\n",
    "with open(data_path, 'rb') as data_file:\n",
    "    data = pickle.load(data_file)\n",
    "\n",
    "data.keys()"
   ]
  },
  {
   "cell_type": "code",
   "execution_count": 6,
   "id": "a93cca05",
   "metadata": {
    "pycharm": {
     "name": "#%%\n"
    }
   },
   "outputs": [],
   "source": [
    "# Unpack vars\n",
    "features_names = pd.Series(data[\"features_names\"])\n",
    "targets_names  = pd.Series(data['targets_names'])\n",
    "classifier = model['model_object']"
   ]
  },
  {
   "cell_type": "code",
   "execution_count": 7,
   "id": "8aad0b71",
   "metadata": {
    "pycharm": {
     "name": "#%%\n"
    }
   },
   "outputs": [
    {
     "data": {
      "text/plain": [
       "GridSearchCV(estimator=Pipeline(steps=[('robustscaler', RobustScaler()),\n",
       "                                       ('pca', PCA()),\n",
       "                                       ('randomforestclassifier',\n",
       "                                        RandomForestClassifier(n_jobs=8,\n",
       "                                                               random_state=0,\n",
       "                                                               verbose=1))]),\n",
       "             param_grid=[{'pca__n_components': [0.7, 0.85, 0.95],\n",
       "                          'randomforestclassifier__max_depth': [3, 10, None],\n",
       "                          'randomforestclassifier__n_estimators': [250, 500]}])"
      ]
     },
     "execution_count": 7,
     "metadata": {},
     "output_type": "execute_result"
    }
   ],
   "source": [
    "classifier"
   ]
  },
  {
   "cell_type": "markdown",
   "id": "2fbd42e0",
   "metadata": {
    "pycharm": {
     "name": "#%% md\n"
    }
   },
   "source": [
    "______"
   ]
  },
  {
   "cell_type": "markdown",
   "id": "4f77c1f4",
   "metadata": {},
   "source": [
    "## Load skills Clusters"
   ]
  },
  {
   "cell_type": "code",
   "execution_count": 8,
   "id": "1a7ac45f-ecca-433e-a54f-5c0b00cac31c",
   "metadata": {
    "scrolled": true
   },
   "outputs": [
    {
     "data": {
      "text/plain": [
       "{'skills_group_0': ['HTML/CSS',\n",
       "  'JavaScript',\n",
       "  'TypeScript',\n",
       "  'MongoDB',\n",
       "  'Angular',\n",
       "  'Angular.js',\n",
       "  'Express',\n",
       "  'Fastify',\n",
       "  'Gatsby',\n",
       "  'Next.js',\n",
       "  'Node.js',\n",
       "  'React.js',\n",
       "  'Electron',\n",
       "  'React Native',\n",
       "  'Yarn',\n",
       "  'npm'],\n",
       " 'skills_group_1': ['Elixir', 'Erlang', 'Ruby', 'Phoenix', 'Ruby on Rails'],\n",
       " 'skills_group_10': ['MATLAB',\n",
       "  'Python',\n",
       "  'Django',\n",
       "  'FastAPI',\n",
       "  'Flask',\n",
       "  'NumPy',\n",
       "  'Pandas',\n",
       "  'Scikit-learn'],\n",
       " 'skills_group_11': ['Assembly', 'C', 'C++', 'GTK', 'Qt'],\n",
       " 'skills_group_12': ['Dart',\n",
       "  'Cloud Firestore',\n",
       "  'Firebase Realtime Database',\n",
       "  'Flutter'],\n",
       " 'skills_group_13': ['CouchDB', 'Couchbase'],\n",
       " 'skills_group_14': ['DynamoDB',\n",
       "  'Ansible',\n",
       "  'Chef',\n",
       "  'Pulumi',\n",
       "  'Puppet',\n",
       "  'Terraform'],\n",
       " 'skills_group_15': ['Unity 3D', 'Unreal Engine'],\n",
       " 'skills_group_16': ['Deno', 'Svelte'],\n",
       " 'skills_group_17': ['Nuxt.js', 'Vue.js'],\n",
       " 'skills_group_18': ['Hugging Face Transformers',\n",
       "  'Keras',\n",
       "  'TensorFlow',\n",
       "  'Torch/PyTorch'],\n",
       " 'skills_group_19': ['Capacitor', 'Cordova', 'Ionic'],\n",
       " 'skills_group_2': ['Groovy',\n",
       "  'Java',\n",
       "  'Kotlin',\n",
       "  'Objective-C',\n",
       "  'Swift',\n",
       "  'Oracle',\n",
       "  'Spring'],\n",
       " 'skills_group_20': ['Bash/Shell', 'Perl'],\n",
       " 'skills_group_21': ['Scala', 'Play Framework', 'Apache Spark', 'Hadoop'],\n",
       " 'skills_group_3': ['Clojure', 'F#', 'Haskell', 'LISP', 'OCaml', 'Solidity'],\n",
       " 'skills_group_4': ['Go',\n",
       "  'Lua',\n",
       "  'Rust',\n",
       "  'PostgreSQL',\n",
       "  'Docker',\n",
       "  'Homebrew',\n",
       "  'Kubernetes'],\n",
       " 'skills_group_5': ['APL',\n",
       "  'COBOL',\n",
       "  'Crystal',\n",
       "  'Fortran',\n",
       "  'Julia',\n",
       "  'IBM DB2',\n",
       "  'Flow'],\n",
       " 'skills_group_6': ['C#',\n",
       "  'Delphi',\n",
       "  'PowerShell',\n",
       "  'SQL',\n",
       "  'VBA',\n",
       "  'Microsoft SQL Server',\n",
       "  'ASP.NET',\n",
       "  'ASP.NET Core ',\n",
       "  'Blazor',\n",
       "  '.NET',\n",
       "  'Uno Platform',\n",
       "  'Xamarin'],\n",
       " 'skills_group_7': ['PHP',\n",
       "  'MariaDB',\n",
       "  'MySQL',\n",
       "  'SQLite',\n",
       "  'Drupal',\n",
       "  'Laravel',\n",
       "  'Symfony',\n",
       "  'jQuery'],\n",
       " 'skills_group_8': ['Cassandra',\n",
       "  'Elasticsearch',\n",
       "  'Neo4j',\n",
       "  'Redis',\n",
       "  'Apache Kafka'],\n",
       " 'skills_group_9': ['R', 'SAS', 'Tidyverse']}"
      ]
     },
     "execution_count": 8,
     "metadata": {},
     "output_type": "execute_result"
    }
   ],
   "source": [
    "# Load skills clusters\n",
    "with open(CLUSTERS_YAML_PATH, \"r\") as clusters_file:\n",
    "    skills_clusters = yaml.safe_load(clusters_file)\n",
    "\n",
    "skills_clusters"
   ]
  },
  {
   "cell_type": "code",
   "execution_count": 9,
   "id": "11372afe-1fa0-4626-b4d6-3b7aee3a930d",
   "metadata": {},
   "outputs": [
    {
     "data": {
      "text/html": [
       "<div>\n",
       "<style scoped>\n",
       "    .dataframe tbody tr th:only-of-type {\n",
       "        vertical-align: middle;\n",
       "    }\n",
       "\n",
       "    .dataframe tbody tr th {\n",
       "        vertical-align: top;\n",
       "    }\n",
       "\n",
       "    .dataframe thead th {\n",
       "        text-align: right;\n",
       "    }\n",
       "</style>\n",
       "<table border=\"1\" class=\"dataframe\">\n",
       "  <thead>\n",
       "    <tr style=\"text-align: right;\">\n",
       "      <th></th>\n",
       "      <th>cluster_name</th>\n",
       "      <th>skill</th>\n",
       "    </tr>\n",
       "  </thead>\n",
       "  <tbody>\n",
       "    <tr>\n",
       "      <th>0</th>\n",
       "      <td>skills_group_0</td>\n",
       "      <td>HTML/CSS</td>\n",
       "    </tr>\n",
       "    <tr>\n",
       "      <th>1</th>\n",
       "      <td>skills_group_0</td>\n",
       "      <td>JavaScript</td>\n",
       "    </tr>\n",
       "    <tr>\n",
       "      <th>2</th>\n",
       "      <td>skills_group_0</td>\n",
       "      <td>TypeScript</td>\n",
       "    </tr>\n",
       "    <tr>\n",
       "      <th>3</th>\n",
       "      <td>skills_group_0</td>\n",
       "      <td>MongoDB</td>\n",
       "    </tr>\n",
       "    <tr>\n",
       "      <th>4</th>\n",
       "      <td>skills_group_0</td>\n",
       "      <td>Angular</td>\n",
       "    </tr>\n",
       "    <tr>\n",
       "      <th>...</th>\n",
       "      <td>...</td>\n",
       "      <td>...</td>\n",
       "    </tr>\n",
       "    <tr>\n",
       "      <th>115</th>\n",
       "      <td>skills_group_8</td>\n",
       "      <td>Redis</td>\n",
       "    </tr>\n",
       "    <tr>\n",
       "      <th>116</th>\n",
       "      <td>skills_group_8</td>\n",
       "      <td>Apache Kafka</td>\n",
       "    </tr>\n",
       "    <tr>\n",
       "      <th>117</th>\n",
       "      <td>skills_group_9</td>\n",
       "      <td>R</td>\n",
       "    </tr>\n",
       "    <tr>\n",
       "      <th>118</th>\n",
       "      <td>skills_group_9</td>\n",
       "      <td>SAS</td>\n",
       "    </tr>\n",
       "    <tr>\n",
       "      <th>119</th>\n",
       "      <td>skills_group_9</td>\n",
       "      <td>Tidyverse</td>\n",
       "    </tr>\n",
       "  </tbody>\n",
       "</table>\n",
       "<p>120 rows × 2 columns</p>\n",
       "</div>"
      ],
      "text/plain": [
       "       cluster_name         skill\n",
       "0    skills_group_0      HTML/CSS\n",
       "1    skills_group_0    JavaScript\n",
       "2    skills_group_0    TypeScript\n",
       "3    skills_group_0       MongoDB\n",
       "4    skills_group_0       Angular\n",
       "..              ...           ...\n",
       "115  skills_group_8         Redis\n",
       "116  skills_group_8  Apache Kafka\n",
       "117  skills_group_9             R\n",
       "118  skills_group_9           SAS\n",
       "119  skills_group_9     Tidyverse\n",
       "\n",
       "[120 rows x 2 columns]"
      ]
     },
     "execution_count": 9,
     "metadata": {},
     "output_type": "execute_result"
    }
   ],
   "source": [
    "# Reformat into data frame\n",
    "molten_clusters = [(cluster_name, cluster_skill)\n",
    "                   for cluster_name, cluster_skills in skills_clusters.items()\n",
    "                   for cluster_skill in cluster_skills]\n",
    "\n",
    "clusters_df = pd.DataFrame(molten_clusters, columns=[\"cluster_name\", \"skill\"])\n",
    "clusters_df"
   ]
  },
  {
   "cell_type": "markdown",
   "id": "4ce9cfe4",
   "metadata": {
    "pycharm": {
     "name": "#%% md\n"
    }
   },
   "source": [
    "________"
   ]
  },
  {
   "cell_type": "markdown",
   "id": "9d1e1177",
   "metadata": {},
   "source": [
    "## Predict sample entry"
   ]
  },
  {
   "cell_type": "code",
   "execution_count": 10,
   "id": "e66c168d-1213-4d04-9a3b-b8068d9b0732",
   "metadata": {},
   "outputs": [],
   "source": [
    "sample_skills = ['NumPy', 'Pandas', 'Scikit-learn']"
   ]
  },
  {
   "cell_type": "code",
   "execution_count": 11,
   "id": "bb9458be",
   "metadata": {
    "pycharm": {
     "name": "#%%\n"
    }
   },
   "outputs": [
    {
     "data": {
      "text/plain": [
       "0    True\n",
       "1    True\n",
       "2    True\n",
       "dtype: bool"
      ]
     },
     "execution_count": 11,
     "metadata": {},
     "output_type": "execute_result"
    }
   ],
   "source": [
    "# Verify\n",
    "pd.Series(sample_skills).isin(features_names)"
   ]
  },
  {
   "cell_type": "markdown",
   "id": "f9ef1cde",
   "metadata": {},
   "source": [
    "### 1. Recreate cluster features"
   ]
  },
  {
   "cell_type": "code",
   "execution_count": 12,
   "id": "ccb1f39a-71dd-479b-a7c1-f6c15b16687d",
   "metadata": {},
   "outputs": [
    {
     "data": {
      "text/html": [
       "<div>\n",
       "<style scoped>\n",
       "    .dataframe tbody tr th:only-of-type {\n",
       "        vertical-align: middle;\n",
       "    }\n",
       "\n",
       "    .dataframe tbody tr th {\n",
       "        vertical-align: top;\n",
       "    }\n",
       "\n",
       "    .dataframe thead th {\n",
       "        text-align: right;\n",
       "    }\n",
       "</style>\n",
       "<table border=\"1\" class=\"dataframe\">\n",
       "  <thead>\n",
       "    <tr style=\"text-align: right;\">\n",
       "      <th></th>\n",
       "      <th>cluster_name</th>\n",
       "      <th>skill</th>\n",
       "      <th>sample_skills</th>\n",
       "    </tr>\n",
       "  </thead>\n",
       "  <tbody>\n",
       "    <tr>\n",
       "      <th>0</th>\n",
       "      <td>skills_group_0</td>\n",
       "      <td>HTML/CSS</td>\n",
       "      <td>False</td>\n",
       "    </tr>\n",
       "    <tr>\n",
       "      <th>1</th>\n",
       "      <td>skills_group_0</td>\n",
       "      <td>JavaScript</td>\n",
       "      <td>False</td>\n",
       "    </tr>\n",
       "    <tr>\n",
       "      <th>2</th>\n",
       "      <td>skills_group_0</td>\n",
       "      <td>TypeScript</td>\n",
       "      <td>False</td>\n",
       "    </tr>\n",
       "    <tr>\n",
       "      <th>3</th>\n",
       "      <td>skills_group_0</td>\n",
       "      <td>MongoDB</td>\n",
       "      <td>False</td>\n",
       "    </tr>\n",
       "    <tr>\n",
       "      <th>4</th>\n",
       "      <td>skills_group_0</td>\n",
       "      <td>Angular</td>\n",
       "      <td>False</td>\n",
       "    </tr>\n",
       "    <tr>\n",
       "      <th>...</th>\n",
       "      <td>...</td>\n",
       "      <td>...</td>\n",
       "      <td>...</td>\n",
       "    </tr>\n",
       "    <tr>\n",
       "      <th>115</th>\n",
       "      <td>skills_group_8</td>\n",
       "      <td>Redis</td>\n",
       "      <td>False</td>\n",
       "    </tr>\n",
       "    <tr>\n",
       "      <th>116</th>\n",
       "      <td>skills_group_8</td>\n",
       "      <td>Apache Kafka</td>\n",
       "      <td>False</td>\n",
       "    </tr>\n",
       "    <tr>\n",
       "      <th>117</th>\n",
       "      <td>skills_group_9</td>\n",
       "      <td>R</td>\n",
       "      <td>False</td>\n",
       "    </tr>\n",
       "    <tr>\n",
       "      <th>118</th>\n",
       "      <td>skills_group_9</td>\n",
       "      <td>SAS</td>\n",
       "      <td>False</td>\n",
       "    </tr>\n",
       "    <tr>\n",
       "      <th>119</th>\n",
       "      <td>skills_group_9</td>\n",
       "      <td>Tidyverse</td>\n",
       "      <td>False</td>\n",
       "    </tr>\n",
       "  </tbody>\n",
       "</table>\n",
       "<p>120 rows × 3 columns</p>\n",
       "</div>"
      ],
      "text/plain": [
       "       cluster_name         skill  sample_skills\n",
       "0    skills_group_0      HTML/CSS          False\n",
       "1    skills_group_0    JavaScript          False\n",
       "2    skills_group_0    TypeScript          False\n",
       "3    skills_group_0       MongoDB          False\n",
       "4    skills_group_0       Angular          False\n",
       "..              ...           ...            ...\n",
       "115  skills_group_8         Redis          False\n",
       "116  skills_group_8  Apache Kafka          False\n",
       "117  skills_group_9             R          False\n",
       "118  skills_group_9           SAS          False\n",
       "119  skills_group_9     Tidyverse          False\n",
       "\n",
       "[120 rows x 3 columns]"
      ]
     },
     "execution_count": 12,
     "metadata": {},
     "output_type": "execute_result"
    }
   ],
   "source": [
    "sample_clusters = clusters_df.copy()\n",
    "sample_clusters[\"sample_skills\"] = sample_clusters[\"skill\"].isin(sample_skills)\n",
    "sample_clusters"
   ]
  },
  {
   "cell_type": "code",
   "execution_count": 13,
   "id": "262b7f9f-9318-466f-bba8-861db1739d76",
   "metadata": {},
   "outputs": [
    {
     "data": {
      "text/plain": [
       "cluster_name\n",
       "skills_group_0     0\n",
       "skills_group_1     0\n",
       "skills_group_10    3\n",
       "skills_group_11    0\n",
       "skills_group_12    0\n",
       "skills_group_13    0\n",
       "skills_group_14    0\n",
       "skills_group_15    0\n",
       "skills_group_16    0\n",
       "skills_group_17    0\n",
       "skills_group_18    0\n",
       "skills_group_19    0\n",
       "skills_group_2     0\n",
       "skills_group_20    0\n",
       "skills_group_21    0\n",
       "skills_group_3     0\n",
       "skills_group_4     0\n",
       "skills_group_5     0\n",
       "skills_group_6     0\n",
       "skills_group_7     0\n",
       "skills_group_8     0\n",
       "skills_group_9     0\n",
       "Name: sample_skills, dtype: int64"
      ]
     },
     "execution_count": 13,
     "metadata": {},
     "output_type": "execute_result"
    }
   ],
   "source": [
    "cluster_features = sample_clusters.groupby(\"cluster_name\")[\"sample_skills\"].sum()\n",
    "cluster_features"
   ]
  },
  {
   "cell_type": "markdown",
   "id": "ec197a4b-4526-4e26-98c7-920f8e98fb7c",
   "metadata": {
    "tags": []
   },
   "source": [
    "### 2. Create OneHotEncoded skills"
   ]
  },
  {
   "cell_type": "code",
   "execution_count": 14,
   "id": "8c742f25-500d-48cb-8f9b-167da9902aa9",
   "metadata": {},
   "outputs": [
    {
     "data": {
      "text/plain": [
       "0                     APL\n",
       "1                Assembly\n",
       "2              Bash/Shell\n",
       "3                       C\n",
       "4                      C#\n",
       "              ...        \n",
       "156                   Vim\n",
       "157         Visual Studio\n",
       "158    Visual Studio Code\n",
       "159              Webstorm\n",
       "160                 Xcode\n",
       "Length: 161, dtype: object"
      ]
     },
     "execution_count": 14,
     "metadata": {},
     "output_type": "execute_result"
    }
   ],
   "source": [
    "#Exclude clusters names & get only skills names\n",
    "skills_names = features_names[~features_names.isin(cluster_features.index)]\n",
    "skills_names"
   ]
  },
  {
   "cell_type": "code",
   "execution_count": 15,
   "id": "3da1b14e-1772-4493-855f-db2f63b27c5f",
   "metadata": {},
   "outputs": [
    {
     "data": {
      "text/plain": [
       "APL                   0\n",
       "Assembly              0\n",
       "Bash/Shell            0\n",
       "C                     0\n",
       "C#                    0\n",
       "                     ..\n",
       "Vim                   0\n",
       "Visual Studio         0\n",
       "Visual Studio Code    0\n",
       "Webstorm              0\n",
       "Xcode                 0\n",
       "Length: 161, dtype: int64"
      ]
     },
     "execution_count": 15,
     "metadata": {},
     "output_type": "execute_result"
    }
   ],
   "source": [
    "ohe_skills = pd.Series(skills_names.isin(sample_skills).astype(int).tolist(), \n",
    "                       index=skills_names)\n",
    "ohe_skills"
   ]
  },
  {
   "cell_type": "markdown",
   "id": "10679807-6733-49f6-a6a5-b0d472f09b09",
   "metadata": {
    "tags": []
   },
   "source": [
    "### 3. Combine features"
   ]
  },
  {
   "cell_type": "code",
   "execution_count": 16,
   "id": "0f5dcb97-beb4-48df-99b5-f78794cfb36f",
   "metadata": {},
   "outputs": [
    {
     "data": {
      "text/plain": [
       "APL               0\n",
       "Assembly          0\n",
       "Bash/Shell        0\n",
       "C                 0\n",
       "C#                0\n",
       "                 ..\n",
       "skills_group_5    0\n",
       "skills_group_6    0\n",
       "skills_group_7    0\n",
       "skills_group_8    0\n",
       "skills_group_9    0\n",
       "Length: 183, dtype: int64"
      ]
     },
     "execution_count": 16,
     "metadata": {},
     "output_type": "execute_result"
    }
   ],
   "source": [
    "# Concat\n",
    "features = pd.concat([ohe_skills,\n",
    "                      cluster_features])\n",
    "features"
   ]
  },
  {
   "cell_type": "code",
   "execution_count": 17,
   "id": "6eb9d705-509e-44a5-b48f-8d5709179502",
   "metadata": {},
   "outputs": [
    {
     "data": {
      "text/plain": [
       "APL               0\n",
       "Assembly          0\n",
       "Bash/Shell        0\n",
       "C                 0\n",
       "C#                0\n",
       "                 ..\n",
       "skills_group_5    0\n",
       "skills_group_6    0\n",
       "skills_group_7    0\n",
       "skills_group_8    0\n",
       "skills_group_9    0\n",
       "Length: 183, dtype: int64"
      ]
     },
     "execution_count": 17,
     "metadata": {},
     "output_type": "execute_result"
    }
   ],
   "source": [
    "# Sort columns\n",
    "features = features.loc[features_names]\n",
    "features"
   ]
  },
  {
   "cell_type": "markdown",
   "id": "7151e391-62d6-4178-9d8a-b20d97f8e927",
   "metadata": {
    "tags": []
   },
   "source": [
    "### 4. Predict"
   ]
  },
  {
   "cell_type": "code",
   "execution_count": 18,
   "id": "6c971fb6",
   "metadata": {
    "pycharm": {
     "name": "#%%\n"
    }
   },
   "outputs": [
    {
     "name": "stderr",
     "output_type": "stream",
     "text": [
      "[Parallel(n_jobs=8)]: Using backend ThreadingBackend with 8 concurrent workers.\n",
      "[Parallel(n_jobs=8)]: Done  34 tasks      | elapsed:    0.0s\n",
      "[Parallel(n_jobs=8)]: Done 184 tasks      | elapsed:    0.0s\n",
      "[Parallel(n_jobs=8)]: Done 434 tasks      | elapsed:    0.0s\n",
      "[Parallel(n_jobs=8)]: Done 500 out of 500 | elapsed:    0.1s finished\n"
     ]
    },
    {
     "data": {
      "text/plain": [
       "[array([[0.62, 0.38]]),\n",
       " array([[0.996, 0.004]]),\n",
       " array([[0.99, 0.01]]),\n",
       " array([[0.804, 0.196]]),\n",
       " array([[0.765, 0.235]]),\n",
       " array([[0.996, 0.004]]),\n",
       " array([[0.996, 0.004]]),\n",
       " array([[0.982, 0.018]]),\n",
       " array([[0.91833333, 0.08166667]]),\n",
       " array([[0.972, 0.028]]),\n",
       " array([[0.986, 0.014]]),\n",
       " array([[0.991, 0.009]]),\n",
       " array([[0.952, 0.048]]),\n",
       " array([[0.99666667, 0.00333333]]),\n",
       " array([[0.986, 0.014]]),\n",
       " array([[0.86, 0.14]]),\n",
       " array([[0.95, 0.05]]),\n",
       " array([[0.704, 0.296]]),\n",
       " array([[0.978, 0.022]]),\n",
       " array([[0.996, 0.004]])]"
      ]
     },
     "execution_count": 18,
     "metadata": {},
     "output_type": "execute_result"
    }
   ],
   "source": [
    "prob_predictions = classifier.predict_proba([features.values])\n",
    "prob_predictions"
   ]
  },
  {
   "cell_type": "code",
   "execution_count": 19,
   "id": "2176c307-de94-405b-bc6a-edb1f6fa2ce0",
   "metadata": {},
   "outputs": [
    {
     "data": {
      "text/plain": [
       "Academic researcher                              0.380000\n",
       "Scientist                                        0.296000\n",
       "Data scientist or machine learning specialist    0.235000\n",
       "Data or business analyst                         0.196000\n",
       "Engineer, data                                   0.140000\n",
       "Developer, back-end                              0.081667\n",
       "Project manager                                  0.050000\n",
       "Developer, full-stack                            0.048000\n",
       "Developer, desktop or enterprise applications    0.028000\n",
       "Security professional                            0.022000\n",
       "Developer, QA or test                            0.018000\n",
       "Developer, mobile                                0.014000\n",
       "Developer, embedded applications or devices      0.014000\n",
       "Cloud infrastructure engineer                    0.010000\n",
       "Developer, front-end                             0.009000\n",
       "Blockchain                                       0.004000\n",
       "DevOps specialist                                0.004000\n",
       "Database administrator                           0.004000\n",
       "System administrator                             0.004000\n",
       "Developer, game or graphics                      0.003333\n",
       "dtype: float64"
      ]
     },
     "execution_count": 19,
     "metadata": {},
     "output_type": "execute_result"
    }
   ],
   "source": [
    "positive_probs = [prob[0][1] for prob in prob_predictions]\n",
    "job_prediction = pd.Series(positive_probs, \n",
    "                           index=targets_names).sort_values(ascending=False)\n",
    "\n",
    "job_prediction"
   ]
  }
 ],
 "metadata": {
  "kernelspec": {
   "display_name": "Python 3 (ipykernel)",
   "language": "python",
   "name": "python3"
  },
  "language_info": {
   "codemirror_mode": {
    "name": "ipython",
    "version": 3
   },
   "file_extension": ".py",
   "mimetype": "text/x-python",
   "name": "python",
   "nbconvert_exporter": "python",
   "pygments_lexer": "ipython3",
   "version": "3.8.16"
  }
 },
 "nbformat": 4,
 "nbformat_minor": 5
}
